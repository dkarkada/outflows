{
 "cells": [
  {
   "cell_type": "code",
   "execution_count": null,
   "metadata": {},
   "outputs": [],
   "source": [
    "import numpy as np\n",
    "from astropy.io import fits\n",
    "import moment_utils as mutil\n",
    "\n",
    "import matplotlib.pyplot as plt\n",
    "from matplotlib.colors import LogNorm, SymLogNorm, Normalize\n",
    "plt.rcParams['figure.figsize'] = [12, 10]\n",
    "SMALL_SIZE = 14\n",
    "MEDIUM_SIZE = 18\n",
    "BIGGER_SIZE = 22\n",
    "plt.rc('font', size=SMALL_SIZE)          # controls default text sizes\n",
    "plt.rc('axes', titlesize=BIGGER_SIZE)    # fontsize of the axes title\n",
    "plt.rc('axes', labelsize=MEDIUM_SIZE)    # fontsize of the x and y labels\n",
    "plt.rc('xtick', labelsize=SMALL_SIZE)    # fontsize of the tick labels\n",
    "plt.rc('ytick', labelsize=SMALL_SIZE)    # fontsize of the tick labels\n",
    "plt.rc('legend', fontsize=SMALL_SIZE)    # legend fontsize\n",
    "plt.rc('figure', titlesize=BIGGER_SIZE)  # fontsize of the figure title\n",
    "\n",
    "\n",
    "def plot_spectrum(spectrum, camera_wavelengths, title=None, y_label=None, outfile=None):\n",
    "    frequencies = 3.0e10 / camera_wavelengths\n",
    "    # convert to GHz\n",
    "    frequencies /= 1.0e9\n",
    "\n",
    "    plt.plot(frequencies, spectrum)\n",
    "    plt.title(title)\n",
    "    plt.xlabel(\"Frequency (GHz)\")\n",
    "    if y_label is None:\n",
    "        y_label = \"Specific Intensity (Kelvin)\"\n",
    "    plt.ylabel(y_label)\n",
    "    plt.show()\n",
    "    \n",
    "    if outfile:\n",
    "        plt.savefig(outfile)\n",
    "        print(\"Spectrum saved at {}\".format(outfile))\n",
    "        \n",
    "\n",
    "def plot_moment_map(moment_map, moment, normed=False, scale_dimensions=None,\n",
    "                    scale_units=None, outfile=None, colorscale=LogNorm(),\n",
    "                    title=None, cbar_label=None):\n",
    "    if scale_dimensions is None:\n",
    "        scale_dimensions = moment_map.shape\n",
    "    if scale_units is None:\n",
    "        scale_units = \"px\"\n",
    "    x_scale, y_scale = scale_dimensions\n",
    "    x_lo, x_hi, y_lo, y_hi = -x_scale/2, x_scale/2, -y_scale/2, y_scale/2\n",
    "    npix_y, npix_x = moment_map.shape\n",
    "    x_range = np.linspace(x_lo, x_hi, npix_x)\n",
    "    y_range = np.linspace(y_lo, y_hi, npix_y)\n",
    "    \n",
    "    plt.pcolormesh(x_range, y_range, moment_map, cmap='viridis', norm=colorscale)\n",
    "    cbar = plt.colorbar()\n",
    "    plt.axis((x_lo, x_hi, y_lo, y_hi))\n",
    "    plt.xlabel(\"X ({})\".format(scale_units))\n",
    "    plt.ylabel(\"Y ({})\".format(scale_units))\n",
    "    if normed:\n",
    "        cbar.set_label(r'[(km/s)^{}]'.format(moment), rotation=90)\n",
    "        plt.title(r'Normalized Integrated Temperature $\\int T_v v^{} dv$'.format(moment))\n",
    "    else:\n",
    "        cbar.set_label(r'[K (km/s)^{}]'.format(1+moment), rotation=90)\n",
    "        plt.title(r'Integrated Temperature $\\int T_v v^{} dv$'.format(moment))\n",
    "    if title is not None:\n",
    "        plt.title(title)\n",
    "    if cbar_label is not None:\n",
    "        cbar.set_label(cbar_label, rotation=90)\n",
    "\n",
    "    if outfile:\n",
    "        plt.savefig(outfile)\n",
    "        print(\"Moment map saved at {}\".format(outfile))\n",
    "        \n",
    "    plt.show()"
   ]
  },
  {
   "cell_type": "code",
   "execution_count": null,
   "metadata": {
    "scrolled": true
   },
   "outputs": [],
   "source": [
    "full_mom2 = mutil.read_moment_map(\"co_emission/full-mom2.fits\")\n",
    "tracer_mom2 = mutil.read_moment_map(\"co_emission/tracer-mom2.fits\")\n",
    "nontracer_mom2 = mutil.read_moment_map(\"co_emission/nontracer-mom2.fits\")\n",
    "obs_outflow_mom2 = mutil.read_moment_map(\"co_emission/obs-outflow-mom2.fits\")\n",
    "obs_nonoutflow_mom2 = mutil.read_moment_map(\"co_emission/obs-nonoutflow-mom2.fits\")\n",
    "\n",
    "nontracer_2ratio = nontracer_mom2/full_mom2\n",
    "tracer_2ratio = tracer_mom2/full_mom2\n",
    "obs_outflow_2ratio = obs_outflow_mom2/full_mom2\n",
    "obs_nonoutflow_2ratio = obs_nonoutflow_mom2/full_mom2"
   ]
  },
  {
   "cell_type": "code",
   "execution_count": null,
   "metadata": {},
   "outputs": [],
   "source": [
    "maps = [full_mom2, tracer_mom2, nontracer_mom2, obs_outflow_mom2, obs_nonoutflow_mom2]\n",
    "titles = [\"Full 2-mom\", \"Tracer 2-mom\", \"Nontracer 2-mom\", \"Observer Outflow 2-mom\",\n",
    "          \"Observer Nonoutflow 2-mom\"]\n",
    "outfiles = [\"full-mom2\", \"tracer-mom2\", \"nontracer-mom2\", \"obs-outflow-mom2\", \"obs-nonoutflow-mom2\"]\n",
    "outfiles = [\"co_emission/results/{}\".format(fn) for fn in outfiles]\n",
    "\n",
    "CM2PC = 3.2407792896664e-19\n",
    "scale = 8e17*CM2PC, 8e17*CM2PC\n",
    "for i in range(len(maps)):    \n",
    "    plot_moment_map(maps[i], moment=2, scale_dimensions=scale, scale_units=\"pc\",\n",
    "                    colorscale=SymLogNorm(linthresh=1e-2), title=titles[i],\n",
    "                    outfile=outfiles[i])"
   ]
  },
  {
   "cell_type": "code",
   "execution_count": null,
   "metadata": {
    "scrolled": false
   },
   "outputs": [],
   "source": [
    "maps = [tracer_2ratio, nontracer_2ratio, obs_outflow_2ratio, obs_nonoutflow_2ratio]\n",
    "titles = [\"Tracer/Full 2-mom ratio\", \"Nontracer/Full 2-mom ratio\",\n",
    "          \"ObserverOutflow/Full 2-mom ratio\", \"ObserverNonoutflow/Full 2-mom ratio\"]\n",
    "outfiles = [\"ratio-tracer-mom2\", \"ratio-nontracer-mom2\", \"ratio-obs-outflow-mom2\",\n",
    "            \"ratio-obs-nonoutflow-mom2\"]\n",
    "outfiles = [\"co_emission/results/{}\".format(fn) for fn in outfiles]\n",
    "\n",
    "CM2PC = 3.2407792896664e-19\n",
    "scale = 8e17*CM2PC, 8e17*CM2PC\n",
    "for i in range(len(maps)):    \n",
    "    plot_moment_map(maps[i], moment=2, scale_dimensions=scale, scale_units=\"pc\",\n",
    "                    colorscale=Normalize(), title=titles[i],\n",
    "                    cbar_label=\"[unitless]\", outfile=outfiles[i])"
   ]
  },
  {
   "cell_type": "code",
   "execution_count": null,
   "metadata": {},
   "outputs": [],
   "source": [
    "spectrum = mutil.create_spectrum(temp_cube, moment_map=moment_map)\n",
    "plot_spectrum(spectrum, camera_wavelengths, title=\"Spectrum @ brightest pixel\")"
   ]
  }
 ],
 "metadata": {
  "kernelspec": {
   "display_name": "Python 3",
   "language": "python",
   "name": "python3"
  },
  "language_info": {
   "codemirror_mode": {
    "name": "ipython",
    "version": 3
   },
   "file_extension": ".py",
   "mimetype": "text/x-python",
   "name": "python",
   "nbconvert_exporter": "python",
   "pygments_lexer": "ipython3",
   "version": "3.7.2"
  }
 },
 "nbformat": 4,
 "nbformat_minor": 2
}
